{
 "cells": [
  {
   "cell_type": "markdown",
   "id": "a2a72df6",
   "metadata": {},
   "source": [
    "# Predições - Aprendizado de Máquina\n",
    "Uma vez que você compreendeu o contexto do problema e explorou os dados relacionados ao mesmo, é hora de criar um modelo para fazer predições!\n",
    "\n",
    "### Orientações:\n",
    "* O objetivo do seu modelo é fazer uma predição de sobrevivência com base nas informações de cada pessoa em individual.[Referencia para estudo de caso.](https://www.youtube.com/watch?v=ba3_UMjhAQc) \n",
    "* Você poderá desenvolver novas features para ajudar o modelo a entender melhor as características de cada amostra. \n",
    "* Deve ser feita uma limpeza e normalização dos dados antes de ser fornecido para o modelo.\n",
    "* Você não poderá utilizar nenhuma lib de AutoML no desafio, é recomendado utilizar a bibliteca do [scikit-learn](https://scikit-learn.org/stable/supervised_learning.html#supervised-learning) para fazer o seu processamento dos dados e treinamento de modelo.\n",
    "* Defina quais métricas são importantes para o seu problema uma vez que se trata de uma classificação. [Referencia  para entender métricas.](https://medium.com/kunumi/m%C3%A9tricas-de-avalia%C3%A7%C3%A3o-em-machine-learning-classifica%C3%A7%C3%A3o-49340dcdb198)\n",
    "* Você deve testar mais de um modelo e comprar o resultados antes de escolher o melhor modelo para o seu problema.\n",
    " \n",
    "Este vídeo é de um Cientista de Dados resolvendo o problema refência do desafio, a suas idéias e lógicas podem ser aproveitadas mas o código não pode ser aproveitado uma vez que os dados não são exatamente iguais.[Link da solução feita por um profissional de referência do projeto.](https://www.youtube.com/watch?v=1KguWZH4hXw&list=PLwnip85KhroW8Q1JSNbgl06iNPeC0SDkx&index=7)"
   ]
  },
  {
   "cell_type": "markdown",
   "id": "72fbcac3",
   "metadata": {},
   "source": [
    "#### Perguntas guias para criação do modelo:\n",
    "- Como você pretende tratar os dados faltantes do seu dataset antes de fornecer para o modelo? \n",
    "- Você consegue criar alguma nova coluna (feature) para fornecer ao modelo?\n",
    "- Existe alguma coluna que pode ser removida sob algum critério? Como por exemplo correlação?\n",
    "- Você encontrou `outliers` no dataset? Se sim qual ação foi feita com estes dados?\n",
    "- Quais normatizações você aplicou nos dados categóricos e numéricos?"
   ]
  },
  {
   "cell_type": "markdown",
   "id": "ebc6475e",
   "metadata": {},
   "source": [
    "# Perguntas do Desafio - Modelo:\n",
    "### Quais etapas de processamento foram realizadas e o porquê de cada uma?\n",
    "- Responda de maneira superficial uma vez que você já mostrou via código o que foi feito, quais as etapas do seu dado desde que ele é carregado pelo pandas até ser fornecido ao modelo durante o treinamento.\n",
    "\n",
    "### Dos modelos testados qual foi melhor? Porque? Apresenta as métricas do seu melhor modelo.\n",
    "- Sabendo que você testou pelo menos 2 modelos diferentes, como você definiu o que é o melhor e qual é o melhor.\n",
    "\n",
    "### Seu melhor modelo comete erros? Quais os pontos fracos dele?\n",
    "- Saber os pontos fracos de seu modelo é crucial durante o seu uso, tente identificar com uma matriz confusão onde o seu modelo erra e o perfil do dado que ele erra."
   ]
  },
  {
   "cell_type": "code",
   "execution_count": 1,
   "id": "365db105",
   "metadata": {},
   "outputs": [],
   "source": [
    "import pandas as pd\n",
    "import numpy as np\n",
    "from sklearn.linear_model import LogisticRegression\n",
    "from sklearn.tree import DecisionTreeClassifier\n",
    "from sklearn.model_selection import RepeatedKFold\n",
    "from sklearn.ensemble import RandomForestClassifier"
   ]
  },
  {
   "cell_type": "code",
   "execution_count": 2,
   "id": "0f79a123",
   "metadata": {},
   "outputs": [],
   "source": [
    "df = pd.read_csv(\"titanic.csv\").set_index(\"id_passageiro\")\n",
    "\n",
    "y = df.pop(\"sobreviveu\") # target\n",
    "X = df"
   ]
  },
  {
   "cell_type": "markdown",
   "id": "e2b431ad",
   "metadata": {},
   "source": [
    "#### Agora, abaixo o processamento + modelos treinados com processamento"
   ]
  },
  {
   "cell_type": "code",
   "execution_count": 3,
   "id": "03fb5c0c",
   "metadata": {},
   "outputs": [
    {
     "data": {
      "text/html": [
       "<div>\n",
       "<style scoped>\n",
       "    .dataframe tbody tr th:only-of-type {\n",
       "        vertical-align: middle;\n",
       "    }\n",
       "\n",
       "    .dataframe tbody tr th {\n",
       "        vertical-align: top;\n",
       "    }\n",
       "\n",
       "    .dataframe thead th {\n",
       "        text-align: right;\n",
       "    }\n",
       "</style>\n",
       "<table border=\"1\" class=\"dataframe\">\n",
       "  <thead>\n",
       "    <tr style=\"text-align: right;\">\n",
       "      <th></th>\n",
       "      <th>classe_bilhete</th>\n",
       "      <th>genero</th>\n",
       "      <th>idade</th>\n",
       "      <th>irmaos_conjuges_abordo</th>\n",
       "      <th>pais_filhos_abordo</th>\n",
       "      <th>preco_bilhete</th>\n",
       "    </tr>\n",
       "    <tr>\n",
       "      <th>id_passageiro</th>\n",
       "      <th></th>\n",
       "      <th></th>\n",
       "      <th></th>\n",
       "      <th></th>\n",
       "      <th></th>\n",
       "      <th></th>\n",
       "    </tr>\n",
       "  </thead>\n",
       "  <tbody>\n",
       "    <tr>\n",
       "      <th>1</th>\n",
       "      <td>3</td>\n",
       "      <td>0</td>\n",
       "      <td>22.0</td>\n",
       "      <td>1</td>\n",
       "      <td>0</td>\n",
       "      <td>7.2500</td>\n",
       "    </tr>\n",
       "    <tr>\n",
       "      <th>2</th>\n",
       "      <td>1</td>\n",
       "      <td>1</td>\n",
       "      <td>38.0</td>\n",
       "      <td>1</td>\n",
       "      <td>0</td>\n",
       "      <td>71.2833</td>\n",
       "    </tr>\n",
       "    <tr>\n",
       "      <th>3</th>\n",
       "      <td>3</td>\n",
       "      <td>1</td>\n",
       "      <td>26.0</td>\n",
       "      <td>0</td>\n",
       "      <td>0</td>\n",
       "      <td>7.9250</td>\n",
       "    </tr>\n",
       "    <tr>\n",
       "      <th>4</th>\n",
       "      <td>1</td>\n",
       "      <td>1</td>\n",
       "      <td>35.0</td>\n",
       "      <td>1</td>\n",
       "      <td>0</td>\n",
       "      <td>53.1000</td>\n",
       "    </tr>\n",
       "    <tr>\n",
       "      <th>5</th>\n",
       "      <td>3</td>\n",
       "      <td>0</td>\n",
       "      <td>35.0</td>\n",
       "      <td>0</td>\n",
       "      <td>0</td>\n",
       "      <td>8.0500</td>\n",
       "    </tr>\n",
       "  </tbody>\n",
       "</table>\n",
       "</div>"
      ],
      "text/plain": [
       "               classe_bilhete  genero  idade  irmaos_conjuges_abordo  \\\n",
       "id_passageiro                                                          \n",
       "1                           3       0   22.0                       1   \n",
       "2                           1       1   38.0                       1   \n",
       "3                           3       1   26.0                       0   \n",
       "4                           1       1   35.0                       1   \n",
       "5                           3       0   35.0                       0   \n",
       "\n",
       "               pais_filhos_abordo  preco_bilhete  \n",
       "id_passageiro                                     \n",
       "1                               0         7.2500  \n",
       "2                               0        71.2833  \n",
       "3                               0         7.9250  \n",
       "4                               0        53.1000  \n",
       "5                               0         8.0500  "
      ]
     },
     "execution_count": 3,
     "metadata": {},
     "output_type": "execute_result"
    }
   ],
   "source": [
    "# Preparação das variáveis para o modelo:\n",
    "# - Retirada de colunas que não serão usadas\n",
    "# - Conversão de strings para ints binarios no gênero\n",
    "# - Preenchimento dos valores faltantes na idade e no preço_bilhete com a média\n",
    "\n",
    "df.drop([\"numero_bilhete\",\"cabine_numero\",\"local_embarque\"],axis=1,inplace=True)\n",
    "\n",
    "# variaveis = ['Sex_binario', 'Age', 'Pclass', 'SibSp', 'Parch', 'Fare']\n",
    "\n",
    "# X = df[variaveis].fillna(-1)\n",
    "# => OBS: olhar melhor se é melhor preencher com a média ou com (-1)\n",
    "# age\n",
    "age_median = df['idade'].median()\n",
    "df['idade'].fillna(age_median, inplace=True)\n",
    "\n",
    "# fare\n",
    "fare_median = df['preco_bilhete'].median()\n",
    "df['preco_bilhete'].fillna(fare_median, inplace=True)\n",
    "\n",
    "df['genero'] = df['genero'].map({'M': 0, 'F': 1})\n",
    "df.head()"
   ]
  },
  {
   "cell_type": "code",
   "execution_count": 4,
   "id": "ff280dd7",
   "metadata": {},
   "outputs": [
    {
     "name": "stdout",
     "output_type": "stream",
     "text": [
      "Acurácia do modelo de Regressão Logística: 80.02\n"
     ]
    }
   ],
   "source": [
    "# Modelo de Regressão Logística\n",
    "lr_model = LogisticRegression(solver='liblinear')\n",
    "lr_model.fit(X, y)\n",
    "\n",
    "# verificar a acurácia do modelo\n",
    "acc_logReg = round(lr_model.score(X, y) * 100, 2)\n",
    "print(\"Acurácia do modelo de Regressão Logística: {}\".format(acc_logReg))"
   ]
  },
  {
   "cell_type": "code",
   "execution_count": 5,
   "id": "83791ac1",
   "metadata": {},
   "outputs": [
    {
     "name": "stdout",
     "output_type": "stream",
     "text": [
      "Acurácia do modelo de Árvore de Decisão: 82.72\n"
     ]
    }
   ],
   "source": [
    "# Modelo de árvore de decisão\n",
    "decision_tree_model = DecisionTreeClassifier(max_depth=3)\n",
    "decision_tree_model.fit(X, y)\n",
    "\n",
    "# verificar a acurácia do modelo\n",
    "acc_tree = round(decision_tree_model.score(X, y) * 100, 2)\n",
    "print(\"Acurácia do modelo de Árvore de Decisão: {}\".format(acc_tree))"
   ]
  },
  {
   "cell_type": "code",
   "execution_count": 9,
   "id": "8abd5487",
   "metadata": {},
   "outputs": [
    {
     "name": "stdout",
     "output_type": "stream",
     "text": [
      "Acurácia do modelo de Árvore Aleatória: 97.98\n"
     ]
    }
   ],
   "source": [
    "random_tree_model = RandomForestClassifier(n_estimators=100, n_jobs=-1, random_state=0)\n",
    "random_tree_model.fit(X, y)\n",
    "\n",
    "# verificar a acurácia do modelo\n",
    "acc_tree = round(random_tree_model.score(X, y) * 100, 2)\n",
    "print(\"Acurácia do modelo de Árvore Aleatória: {}\".format(acc_tree))"
   ]
  },
  {
   "cell_type": "code",
   "execution_count": null,
   "id": "eeb6b2b4",
   "metadata": {},
   "outputs": [],
   "source": []
  },
  {
   "cell_type": "code",
   "execution_count": null,
   "id": "083cef17",
   "metadata": {},
   "outputs": [],
   "source": []
  },
  {
   "cell_type": "code",
   "execution_count": null,
   "id": "1bcf50a7",
   "metadata": {},
   "outputs": [],
   "source": []
  }
 ],
 "metadata": {
  "kernelspec": {
   "display_name": "Python 3 (ipykernel)",
   "language": "python",
   "name": "python3"
  },
  "language_info": {
   "codemirror_mode": {
    "name": "ipython",
    "version": 3
   },
   "file_extension": ".py",
   "mimetype": "text/x-python",
   "name": "python",
   "nbconvert_exporter": "python",
   "pygments_lexer": "ipython3",
   "version": "3.10.10"
  }
 },
 "nbformat": 4,
 "nbformat_minor": 5
}
