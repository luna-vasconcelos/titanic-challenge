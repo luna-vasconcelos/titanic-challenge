{
 "cells": [
  {
   "cell_type": "markdown",
   "id": "da86d790",
   "metadata": {},
   "source": [
    "## (OK) \n",
    "# Introdução ao desafio\n",
    "Este desafio foi desenvolvido para a conclusão da trilha Data Science.\n",
    "Caso tenha alguma dúvida sobre o desafio, pode entrar em contato com a equipe ASCAN;\n",
    "\n",
    "#### Recomendações para o desafio:\n",
    "- Toda informação que possa ser representada em gráficos deve ser representada, escolher o gráfico adequado para o dado em questão faz parte do desafio;\n",
    "- Entenda do que o dado se trata, pesquise, teste, pense!;\n",
    "- Seja curioso, passe por cada coluna olhando elas isoladamente e também procurando se há alguma relação com as demais colunas.\n",
    "- Utilize boas práticas de programação em Python e em notebooks, segue um [link](https://www.slideshare.net/joelpl/boas-prticas-de-desenvolvimento-para-jupyter-notebooks) para mais orientações;\n",
    "- Todo gráfico deve ter um título e está em um tamanho adequado, lembre-se das boas políticas de visualização.\n",
    "- Faça métodos (functions) para reaproveitar código;\n",
    "- Documente o seu código, lembre-se que outros pessoas vão avaliá-lo;\n",
    "- **Perguntas guias** ou **Perguntas chaves** devem ser respondidas diretamente por você durante a elaboração do notebook, sempre com dados reforçando seus argumentos.\n",
    "- E o mais importante, divirta-se!\n",
    "\n",
    "\n",
    "\n",
    "# Dados\n",
    "\n",
    "Para este desafio vamos utilizar um dos dados mais utilizados na comunidade de Ciência de Dados, o tão famoso TITANIC! Esta versão foi modificada para este desafio com o intuito de facilitar e direcionar melhor os desafiantes.\n",
    "Recomendo que antes de iniciar você se familiarize com o contexto do dataset, o que basicamente foi um navio famoso no início do século 20 que naufragou. \n",
    "\n",
    "Vou deixar dois links sobre o tema abaixo:\n",
    "- [Youtube](https://www.youtube.com/watch?v=epc1KZMx2vs)\n",
    "- [Wikipedia](https://pt.wikipedia.org/wiki/RMS_Titanic)\n",
    "\n",
    "Metadata:\n",
    " \n",
    "| **Variável**         | **Descrição**           |**Valores Chaves**          |\n",
    "| ---------------- | ------------------- | ---------------------- |\n",
    "| sobreviveu       | Se sobreviveu ou não ao acidente.            |Não sobreviveu = False, Sobreviveu = Yes |\n",
    "| classe_bilhete   | Classe do bilhete comprado.      |1=Primeira Classe, 2=Segunda Classe, 3=Terceira Classe |\n",
    "| genero           | Gênero do passageiro.                 |M=Masculino, F=Feminino       |\n",
    "| idade            | Idade em anos e meses.        |Min=0.42 ~ Max=80.0       |\n",
    "| irmaos_conjuges_abordo    | Número de irmãos/cônjuges a bordo do Titanic.  |Min=0 ~ Max=6       |\n",
    "| pais_filhos_abordo      | Número de pais/filhos a bordo do Titanic.   |Min=0 ~ Max=8       |\n",
    "| numero_bilhete   | Número do Bilhete.     |Combinação de texto e número.       |\n",
    "| preco_bilhete    | Preço pago no Bilhete.    |Min=0.00 ~ Max=512.32       |\n",
    "| cabine_numero    | Número da Cabine do Passageiro.        |Combinação de texto e número.       |\n",
    "| local_embarque   | Cidade que o passageiro embarcou. |Valores válidos=['Southampton', 'Cherbourg', 'Queenstown'] |\n",
    " \n",
    "[Referência do dado](https://www.kaggle.com/competitions/titanic/data?select=train.csv)"
   ]
  },
  {
   "cell_type": "markdown",
   "id": "ee98bd7e",
   "metadata": {},
   "source": [
    "## (OK)\n",
    "**ATENÇÃO: Você pode usar outras versões dos pacotes como também outras ferramentas de visualização de dados no lugar do `seaborn`, como exemplo o `plotly`!!!**"
   ]
  },
  {
   "cell_type": "code",
   "execution_count": null,
   "id": "5005be66",
   "metadata": {},
   "outputs": [],
   "source": [
    "(OK) \n",
    "!pip install pandas==1.1.4 seaborn==0.9.0 -q"
   ]
  },
  {
   "cell_type": "code",
   "execution_count": 1,
   "id": "5cc5bbdb",
   "metadata": {},
   "outputs": [
    {
     "data": {
      "text/html": [
       "<div>\n",
       "<style scoped>\n",
       "    .dataframe tbody tr th:only-of-type {\n",
       "        vertical-align: middle;\n",
       "    }\n",
       "\n",
       "    .dataframe tbody tr th {\n",
       "        vertical-align: top;\n",
       "    }\n",
       "\n",
       "    .dataframe thead th {\n",
       "        text-align: right;\n",
       "    }\n",
       "</style>\n",
       "<table border=\"1\" class=\"dataframe\">\n",
       "  <thead>\n",
       "    <tr style=\"text-align: right;\">\n",
       "      <th></th>\n",
       "      <th>sobreviveu</th>\n",
       "      <th>classe_bilhete</th>\n",
       "      <th>genero</th>\n",
       "      <th>idade</th>\n",
       "      <th>irmaos_conjuges_abordo</th>\n",
       "      <th>pais_filhos_abordo</th>\n",
       "      <th>numero_bilhete</th>\n",
       "      <th>preco_bilhete</th>\n",
       "      <th>cabine_numero</th>\n",
       "      <th>local_embarque</th>\n",
       "    </tr>\n",
       "    <tr>\n",
       "      <th>id_passageiro</th>\n",
       "      <th></th>\n",
       "      <th></th>\n",
       "      <th></th>\n",
       "      <th></th>\n",
       "      <th></th>\n",
       "      <th></th>\n",
       "      <th></th>\n",
       "      <th></th>\n",
       "      <th></th>\n",
       "      <th></th>\n",
       "    </tr>\n",
       "  </thead>\n",
       "  <tbody>\n",
       "    <tr>\n",
       "      <th>1</th>\n",
       "      <td>False</td>\n",
       "      <td>3</td>\n",
       "      <td>M</td>\n",
       "      <td>22.0</td>\n",
       "      <td>1</td>\n",
       "      <td>0</td>\n",
       "      <td>A/5 21171</td>\n",
       "      <td>7.2500</td>\n",
       "      <td>NaN</td>\n",
       "      <td>Southampton</td>\n",
       "    </tr>\n",
       "    <tr>\n",
       "      <th>2</th>\n",
       "      <td>True</td>\n",
       "      <td>1</td>\n",
       "      <td>F</td>\n",
       "      <td>38.0</td>\n",
       "      <td>1</td>\n",
       "      <td>0</td>\n",
       "      <td>PC 17599</td>\n",
       "      <td>71.2833</td>\n",
       "      <td>C85</td>\n",
       "      <td>Cherbourg</td>\n",
       "    </tr>\n",
       "    <tr>\n",
       "      <th>3</th>\n",
       "      <td>True</td>\n",
       "      <td>3</td>\n",
       "      <td>F</td>\n",
       "      <td>26.0</td>\n",
       "      <td>0</td>\n",
       "      <td>0</td>\n",
       "      <td>STON/O2. 3101282</td>\n",
       "      <td>7.9250</td>\n",
       "      <td>NaN</td>\n",
       "      <td>Southampton</td>\n",
       "    </tr>\n",
       "    <tr>\n",
       "      <th>4</th>\n",
       "      <td>True</td>\n",
       "      <td>1</td>\n",
       "      <td>F</td>\n",
       "      <td>35.0</td>\n",
       "      <td>1</td>\n",
       "      <td>0</td>\n",
       "      <td>113803</td>\n",
       "      <td>53.1000</td>\n",
       "      <td>C123</td>\n",
       "      <td>Southampton</td>\n",
       "    </tr>\n",
       "    <tr>\n",
       "      <th>5</th>\n",
       "      <td>False</td>\n",
       "      <td>3</td>\n",
       "      <td>M</td>\n",
       "      <td>35.0</td>\n",
       "      <td>0</td>\n",
       "      <td>0</td>\n",
       "      <td>373450</td>\n",
       "      <td>8.0500</td>\n",
       "      <td>NaN</td>\n",
       "      <td>Southampton</td>\n",
       "    </tr>\n",
       "  </tbody>\n",
       "</table>\n",
       "</div>"
      ],
      "text/plain": [
       "               sobreviveu  classe_bilhete genero  idade  \\\n",
       "id_passageiro                                             \n",
       "1                   False               3      M   22.0   \n",
       "2                    True               1      F   38.0   \n",
       "3                    True               3      F   26.0   \n",
       "4                    True               1      F   35.0   \n",
       "5                   False               3      M   35.0   \n",
       "\n",
       "               irmaos_conjuges_abordo  pais_filhos_abordo    numero_bilhete  \\\n",
       "id_passageiro                                                                 \n",
       "1                                   1                   0         A/5 21171   \n",
       "2                                   1                   0          PC 17599   \n",
       "3                                   0                   0  STON/O2. 3101282   \n",
       "4                                   1                   0            113803   \n",
       "5                                   0                   0            373450   \n",
       "\n",
       "               preco_bilhete cabine_numero local_embarque  \n",
       "id_passageiro                                              \n",
       "1                     7.2500           NaN    Southampton  \n",
       "2                    71.2833           C85      Cherbourg  \n",
       "3                     7.9250           NaN    Southampton  \n",
       "4                    53.1000          C123    Southampton  \n",
       "5                     8.0500           NaN    Southampton  "
      ]
     },
     "execution_count": 1,
     "metadata": {},
     "output_type": "execute_result"
    }
   ],
   "source": [
    "import pandas as pd\n",
    "import seaborn as sns\n",
    "\n",
    "df = pd.read_csv(\"titanic.csv\").set_index(\"id_passageiro\")\n",
    "df.head()"
   ]
  },
  {
   "cell_type": "markdown",
   "id": "568d67a8",
   "metadata": {},
   "source": [
    "# EDA \n",
    "Aqui vamos iniciar a parte de exploratório, as categorias do DataFrame já foram previamente identificadas, mas nada impede que você faça transformações para estas. Fique livre para identificar novos pontos e trazer para a sua defesa no futuro.\n",
    "\n",
    "Novamente: **Perguntas guias** ou **Perguntas chaves** devem ser respondidas diretamente por você durante a elaboração do notebook, sempre com dados reforçando seus argumentos.\n",
    "\n",
    "\n"
   ]
  },
  {
   "cell_type": "code",
   "execution_count": null,
   "id": "2b4294a6",
   "metadata": {},
   "outputs": [],
   "source": [
    "numerica = [\n",
    "    \"idade\",\n",
    "    \"preco_bilhete\",\n",
    "    \"irmaos_conjuges_abordo\",\n",
    "    \"pais_filhos_abordo\",\n",
    "    \"preco_bilhete\",\n",
    "]\n",
    "\n",
    "categorica = [\n",
    "    \"classe_bilhete\",\n",
    "    \"genero\",\n",
    "    \"numero_bilhete\",\n",
    "    \"cabine_numero\",\n",
    "    \"local_embarque\",\n",
    "    \"sobreviveu\",\n",
    "]"
   ]
  },
  {
   "cell_type": "markdown",
   "id": "e77f5e6c",
   "metadata": {},
   "source": [
    "##  Visualize e entenda todas as colunas numéricas.\n",
    "#### Perguntas guias para as categorias númerias:\n",
    "- Existem dados faltantes no seu conjunto?\n",
    "- Quais as suas distribuições?\n",
    "- Temos outliers neste subconjunto? (utilize a definição numérica de outliers apresentado na trilha para fazer essa verificação)\n",
    "- Existe alguma correlação entre essas variáveis numéricas? (não precisa olhar para outras categorias no momento)\n",
    "\n",
    "\n"
   ]
  },
  {
   "cell_type": "code",
   "execution_count": null,
   "id": "38bd1c5d",
   "metadata": {},
   "outputs": [],
   "source": [
    "## Seu código"
   ]
  },
  {
   "cell_type": "code",
   "execution_count": null,
   "id": "415deb31",
   "metadata": {},
   "outputs": [],
   "source": []
  },
  {
   "cell_type": "code",
   "execution_count": null,
   "id": "fb172aab",
   "metadata": {},
   "outputs": [],
   "source": []
  },
  {
   "cell_type": "markdown",
   "id": "0d7c2f4b",
   "metadata": {},
   "source": [
    "##  Visualize e entenda todas as colunas categóricas.\n",
    "#### Perguntas guias para as categorias categóricas:\n",
    "- Existem dados faltantes no seu conjunto? \n",
    "- Conseguimos extrair alguma informação nas colunas `numero_bilhete` e `cabine_numero`? ([Dica](https://pt.wikipedia.org/wiki/Instala%C3%A7%C3%B5es_da_primeira_classe_do_RMS_Titanic))\n",
    "- Existe alguma casualidade ou correlação entre as categorias?\n",
    "- Existe alguma relação entre a `classe_bilhete` e o `cabine_numero`?\n",
    "\n",
    "\n"
   ]
  },
  {
   "cell_type": "code",
   "execution_count": null,
   "id": "301769d7",
   "metadata": {},
   "outputs": [],
   "source": [
    "## Seu código"
   ]
  },
  {
   "cell_type": "code",
   "execution_count": null,
   "id": "8382eafc",
   "metadata": {},
   "outputs": [],
   "source": []
  },
  {
   "cell_type": "code",
   "execution_count": null,
   "id": "2513dea6",
   "metadata": {},
   "outputs": [],
   "source": []
  },
  {
   "cell_type": "markdown",
   "id": "ed1301b9",
   "metadata": {},
   "source": [
    "#### Perguntas chave para as categorias categóricas:\n",
    "- Há alguma influência de pertencer a algum grupo de alguma cabine na sua sobrevivência?\n",
    "- Há algum padrão no `numero_bilhete`?\n",
    "- Há algum padrão na `cabine_numero`?\n",
    "\n",
    "\n"
   ]
  },
  {
   "cell_type": "code",
   "execution_count": null,
   "id": "65dcc3b1",
   "metadata": {},
   "outputs": [],
   "source": [
    "### Seu código"
   ]
  },
  {
   "cell_type": "code",
   "execution_count": null,
   "id": "3b82e7b1",
   "metadata": {},
   "outputs": [],
   "source": []
  },
  {
   "cell_type": "code",
   "execution_count": null,
   "id": "b1efb670",
   "metadata": {},
   "outputs": [],
   "source": []
  },
  {
   "cell_type": "markdown",
   "id": "88c76877",
   "metadata": {},
   "source": [
    "# Perguntas do Desafio:"
   ]
  },
  {
   "cell_type": "markdown",
   "id": "2b125633",
   "metadata": {},
   "source": [
    "### Qual o fator que foi mais importante e menos importante para determinar a sobrevivência para esta população?\n",
    "\n"
   ]
  },
  {
   "cell_type": "code",
   "execution_count": null,
   "id": "22072800",
   "metadata": {},
   "outputs": [],
   "source": [
    "### Seu código"
   ]
  },
  {
   "cell_type": "markdown",
   "id": "27192ea5",
   "metadata": {},
   "source": [
    "Sua resposta: ....."
   ]
  },
  {
   "cell_type": "markdown",
   "id": "a551f815",
   "metadata": {},
   "source": [
    "### Você pode dizer que houve alguma influência do poder aquisitivo na sobrevivência do acidente? \n",
    "\n"
   ]
  },
  {
   "cell_type": "code",
   "execution_count": null,
   "id": "aae33906",
   "metadata": {},
   "outputs": [],
   "source": [
    "### Seu código"
   ]
  },
  {
   "cell_type": "markdown",
   "id": "fc0a193f",
   "metadata": {},
   "source": [
    "Sua resposta: ....."
   ]
  },
  {
   "cell_type": "markdown",
   "id": "b8b48546",
   "metadata": {},
   "source": [
    "### O protocolo marítimo da época do Titanic tinha foco em dar prioridade a crianças e mulheres, analisando os dados podemos dizer se este protocolo foi seguido?\n",
    "\n"
   ]
  },
  {
   "cell_type": "code",
   "execution_count": null,
   "id": "f055531f",
   "metadata": {},
   "outputs": [],
   "source": [
    "### Seu código"
   ]
  },
  {
   "cell_type": "markdown",
   "id": "3ed7a5d0",
   "metadata": {},
   "source": [
    "Sua resposta: ....."
   ]
  },
  {
   "cell_type": "markdown",
   "id": "9934559c",
   "metadata": {},
   "source": [
    "### Ter uma família no barco influenciou negativamente ou positivamente para a sua sobrevivência?"
   ]
  },
  {
   "cell_type": "code",
   "execution_count": null,
   "id": "1d107ef7",
   "metadata": {},
   "outputs": [],
   "source": [
    "### Seu código"
   ]
  },
  {
   "cell_type": "markdown",
   "id": "9427703d",
   "metadata": {},
   "source": [
    "Sua resposta: ....."
   ]
  },
  {
   "cell_type": "markdown",
   "id": "e904b88a",
   "metadata": {},
   "source": [
    "### Qual o perfil de quem não sobreviveu? E qual é o perfil de quem sobreviveu?\n",
    "- Entenda Perfil como: Gênero, Idade e Classe Social. Caso você identifique alguma nova característica pode adicioná-la ao perfil."
   ]
  },
  {
   "cell_type": "code",
   "execution_count": null,
   "id": "fc2ed148",
   "metadata": {},
   "outputs": [],
   "source": [
    "### Seu código"
   ]
  },
  {
   "cell_type": "markdown",
   "id": "5993efa2",
   "metadata": {},
   "source": [
    "Sua resposta: ....."
   ]
  },
  {
   "cell_type": "markdown",
   "id": "9898edbd",
   "metadata": {},
   "source": [
    "# Predições - Aprendizado de Máquina\n",
    "Uma vez que você compreendeu o contexto do problema e explorou os dados relacionados ao mesmo, é hora de criar um modelo para fazer predições!\n",
    "\n",
    "### Orientações:\n",
    "* O objetivo do seu modelo é fazer uma predição de sobrevivência com base nas informações de cada pessoa em individual.[Referencia para estudo de caso.](https://www.youtube.com/watch?v=ba3_UMjhAQc) \n",
    "* Você poderá desenvolver novas features para ajudar o modelo a entender melhor as características de cada amostra. \n",
    "* Deve ser feita uma limpeza e normalização dos dados antes de ser fornecido para o modelo.\n",
    "* Você não poderá utilizar nenhuma lib de AutoML no desafio, é recomendado utilizar a bibliteca do [scikit-learn](https://scikit-learn.org/stable/supervised_learning.html#supervised-learning) para fazer o seu processamento dos dados e treinamento de modelo.\n",
    "* Defina quais métricas são importantes para o seu problema uma vez que se trata de uma classificação. [Referencia  para entender métricas.](https://medium.com/kunumi/m%C3%A9tricas-de-avalia%C3%A7%C3%A3o-em-machine-learning-classifica%C3%A7%C3%A3o-49340dcdb198)\n",
    "* Você deve testar mais de um modelo e comprar o resultados antes de escolher o melhor modelo para o seu problema.\n",
    " \n",
    "Este vídeo é de um Cientista de Dados resolvendo o problema refência do desafio, a suas idéias e lógicas podem ser aproveitadas mas o código não pode ser aproveitado uma vez que os dados não são exatamente iguais.[Link da solução feita por um profissional de referência do projeto.](https://www.youtube.com/watch?v=1KguWZH4hXw&list=PLwnip85KhroW8Q1JSNbgl06iNPeC0SDkx&index=7)"
   ]
  },
  {
   "cell_type": "code",
   "execution_count": null,
   "id": "3f71444a",
   "metadata": {},
   "outputs": [],
   "source": [
    "!pip install -U scikit-learn==1.1.2"
   ]
  },
  {
   "cell_type": "code",
   "execution_count": 8,
   "id": "2f518d7b",
   "metadata": {},
   "outputs": [
    {
     "data": {
      "text/html": [
       "<div>\n",
       "<style scoped>\n",
       "    .dataframe tbody tr th:only-of-type {\n",
       "        vertical-align: middle;\n",
       "    }\n",
       "\n",
       "    .dataframe tbody tr th {\n",
       "        vertical-align: top;\n",
       "    }\n",
       "\n",
       "    .dataframe thead th {\n",
       "        text-align: right;\n",
       "    }\n",
       "</style>\n",
       "<table border=\"1\" class=\"dataframe\">\n",
       "  <thead>\n",
       "    <tr style=\"text-align: right;\">\n",
       "      <th></th>\n",
       "      <th>sobreviveu</th>\n",
       "      <th>classe_bilhete</th>\n",
       "      <th>genero</th>\n",
       "      <th>idade</th>\n",
       "      <th>irmaos_conjuges_abordo</th>\n",
       "      <th>pais_filhos_abordo</th>\n",
       "      <th>numero_bilhete</th>\n",
       "      <th>preco_bilhete</th>\n",
       "      <th>cabine_numero</th>\n",
       "      <th>local_embarque</th>\n",
       "    </tr>\n",
       "    <tr>\n",
       "      <th>id_passageiro</th>\n",
       "      <th></th>\n",
       "      <th></th>\n",
       "      <th></th>\n",
       "      <th></th>\n",
       "      <th></th>\n",
       "      <th></th>\n",
       "      <th></th>\n",
       "      <th></th>\n",
       "      <th></th>\n",
       "      <th></th>\n",
       "    </tr>\n",
       "  </thead>\n",
       "  <tbody>\n",
       "    <tr>\n",
       "      <th>1</th>\n",
       "      <td>False</td>\n",
       "      <td>3</td>\n",
       "      <td>M</td>\n",
       "      <td>22.0</td>\n",
       "      <td>1</td>\n",
       "      <td>0</td>\n",
       "      <td>A/5 21171</td>\n",
       "      <td>7.2500</td>\n",
       "      <td>NaN</td>\n",
       "      <td>Southampton</td>\n",
       "    </tr>\n",
       "    <tr>\n",
       "      <th>2</th>\n",
       "      <td>True</td>\n",
       "      <td>1</td>\n",
       "      <td>F</td>\n",
       "      <td>38.0</td>\n",
       "      <td>1</td>\n",
       "      <td>0</td>\n",
       "      <td>PC 17599</td>\n",
       "      <td>71.2833</td>\n",
       "      <td>C85</td>\n",
       "      <td>Cherbourg</td>\n",
       "    </tr>\n",
       "    <tr>\n",
       "      <th>3</th>\n",
       "      <td>True</td>\n",
       "      <td>3</td>\n",
       "      <td>F</td>\n",
       "      <td>26.0</td>\n",
       "      <td>0</td>\n",
       "      <td>0</td>\n",
       "      <td>STON/O2. 3101282</td>\n",
       "      <td>7.9250</td>\n",
       "      <td>NaN</td>\n",
       "      <td>Southampton</td>\n",
       "    </tr>\n",
       "    <tr>\n",
       "      <th>4</th>\n",
       "      <td>True</td>\n",
       "      <td>1</td>\n",
       "      <td>F</td>\n",
       "      <td>35.0</td>\n",
       "      <td>1</td>\n",
       "      <td>0</td>\n",
       "      <td>113803</td>\n",
       "      <td>53.1000</td>\n",
       "      <td>C123</td>\n",
       "      <td>Southampton</td>\n",
       "    </tr>\n",
       "    <tr>\n",
       "      <th>5</th>\n",
       "      <td>False</td>\n",
       "      <td>3</td>\n",
       "      <td>M</td>\n",
       "      <td>35.0</td>\n",
       "      <td>0</td>\n",
       "      <td>0</td>\n",
       "      <td>373450</td>\n",
       "      <td>8.0500</td>\n",
       "      <td>NaN</td>\n",
       "      <td>Southampton</td>\n",
       "    </tr>\n",
       "  </tbody>\n",
       "</table>\n",
       "</div>"
      ],
      "text/plain": [
       "               sobreviveu  classe_bilhete genero  idade  \\\n",
       "id_passageiro                                             \n",
       "1                   False               3      M   22.0   \n",
       "2                    True               1      F   38.0   \n",
       "3                    True               3      F   26.0   \n",
       "4                    True               1      F   35.0   \n",
       "5                   False               3      M   35.0   \n",
       "\n",
       "               irmaos_conjuges_abordo  pais_filhos_abordo    numero_bilhete  \\\n",
       "id_passageiro                                                                 \n",
       "1                                   1                   0         A/5 21171   \n",
       "2                                   1                   0          PC 17599   \n",
       "3                                   0                   0  STON/O2. 3101282   \n",
       "4                                   1                   0            113803   \n",
       "5                                   0                   0            373450   \n",
       "\n",
       "               preco_bilhete cabine_numero local_embarque  \n",
       "id_passageiro                                              \n",
       "1                     7.2500           NaN    Southampton  \n",
       "2                    71.2833           C85      Cherbourg  \n",
       "3                     7.9250           NaN    Southampton  \n",
       "4                    53.1000          C123    Southampton  \n",
       "5                     8.0500           NaN    Southampton  "
      ]
     },
     "execution_count": 8,
     "metadata": {},
     "output_type": "execute_result"
    }
   ],
   "source": [
    "### Importação dos pacotes scikit-learn \n",
    "#\n",
    "#\n",
    "#\n",
    "\n",
    "# Reimportando o conjunto de dado\n",
    "df = pd.read_csv(\"titanic.csv\").set_index(\"id_passageiro\")\n",
    "\n",
    "y = df.pop(\"sobreviveu\")\n",
    "X = df"
   ]
  },
  {
   "cell_type": "markdown",
   "id": "c6259035",
   "metadata": {},
   "source": [
    "#### Perguntas guias para criação do modelo:\n",
    "- Como você pretende tratar os dados faltantes do seu dataset antes de fornecer para o modelo? \n",
    "- Você consegue criar alguma nova coluna (feature) para fornecer ao modelo?\n",
    "- Existe alguma coluna que pode ser removida sob algum critério? Como por exemplo correlação?\n",
    "- Você encontrou `outliers` no dataset? Se sim qual ação foi feita com estes dados?\n",
    "- Quais normatizações você aplicou nos dados categóricos e numéricos?"
   ]
  },
  {
   "cell_type": "code",
   "execution_count": 13,
   "id": "7d153f27",
   "metadata": {},
   "outputs": [],
   "source": [
    "### Seu código"
   ]
  },
  {
   "cell_type": "code",
   "execution_count": 13,
   "id": "3052ba62",
   "metadata": {},
   "outputs": [],
   "source": [
    "### Seu código"
   ]
  },
  {
   "cell_type": "code",
   "execution_count": 13,
   "id": "43515586",
   "metadata": {},
   "outputs": [],
   "source": [
    "### Seu código"
   ]
  },
  {
   "cell_type": "markdown",
   "id": "507852ff",
   "metadata": {},
   "source": [
    "# Perguntas do Desafio  - Modelo:"
   ]
  },
  {
   "cell_type": "markdown",
   "id": "70740930",
   "metadata": {},
   "source": [
    "### Quais etapas de processamento foram realizadas e o porquê de cada uma?\n",
    "- Responda de maneira superficial uma vez que você já mostrou via código o que foi feito, quais as etapas do seu dado desde que ele é carregado pelo pandas até ser fornecido ao modelo durante o treinamento."
   ]
  },
  {
   "cell_type": "code",
   "execution_count": 13,
   "id": "ca4be200",
   "metadata": {},
   "outputs": [],
   "source": [
    "### Seu código"
   ]
  },
  {
   "cell_type": "markdown",
   "id": "05db5ce1",
   "metadata": {},
   "source": [
    "### Dos modelos testados qual foi melhor? Porque? Apresenta as métricas do seu melhor modelo. \n",
    "- Sabendo que você testou pelo menos 2 modelos diferentes, como você definiu o que é o melhor e qual é o melhor.\n",
    "\n",
    "\n"
   ]
  },
  {
   "cell_type": "code",
   "execution_count": null,
   "id": "298a8c8f",
   "metadata": {},
   "outputs": [],
   "source": [
    "### Seu código"
   ]
  },
  {
   "cell_type": "markdown",
   "id": "648e19d0",
   "metadata": {},
   "source": [
    "### Seu  melhor modelo comete erros? Quais os pontos fracos dele?\n",
    "- Saber os pontos fracos de seu modelo é crucial durante o seu uso, tente identificar com uma matriz confusão onde o seu modelo erra e o perfil do dado que ele erra.\n",
    "\n",
    "\n",
    "\n"
   ]
  },
  {
   "cell_type": "code",
   "execution_count": null,
   "id": "bf2129bb",
   "metadata": {},
   "outputs": [],
   "source": [
    "### Seu código"
   ]
  },
  {
   "cell_type": "markdown",
   "id": "d55ca294",
   "metadata": {},
   "source": [
    "Se você sobreviveu até aqui, meus parabéns! =D"
   ]
  }
 ],
 "metadata": {
  "kernelspec": {
   "display_name": "Python 3 (ipykernel)",
   "language": "python",
   "name": "python3"
  },
  "language_info": {
   "codemirror_mode": {
    "name": "ipython",
    "version": 3
   },
   "file_extension": ".py",
   "mimetype": "text/x-python",
   "name": "python",
   "nbconvert_exporter": "python",
   "pygments_lexer": "ipython3",
   "version": "3.10.10"
  }
 },
 "nbformat": 4,
 "nbformat_minor": 5
}
